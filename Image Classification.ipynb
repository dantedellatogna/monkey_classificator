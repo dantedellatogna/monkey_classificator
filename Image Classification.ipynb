{
 "cells": [
  {
   "cell_type": "code",
   "execution_count": 1,
   "id": "e63a15ad",
   "metadata": {},
   "outputs": [
    {
     "name": "stdout",
     "output_type": "stream",
     "text": [
      "2.0.1+cu117\n",
      "0.15.2+cu117\n"
     ]
    }
   ],
   "source": [
    "import os\n",
    "import torch\n",
    "import torchvision\n",
    "import torchvision.transforms as transforms\n",
    "print(torch.__version__)\n",
    "print(torchvision.__version__)"
   ]
  },
  {
   "cell_type": "markdown",
   "id": "b00f7338",
   "metadata": {},
   "source": [
    "# Calculating the Mean and Standard Deviation of our Dataset."
   ]
  },
  {
   "cell_type": "code",
   "execution_count": 6,
   "id": "2f666161",
   "metadata": {},
   "outputs": [
    {
     "data": {
      "text/plain": [
       "['n0', 'n1', 'n2', 'n3', 'n4', 'n5', 'n6', 'n7', 'n8', 'n9']"
      ]
     },
     "execution_count": 6,
     "metadata": {},
     "output_type": "execute_result"
    }
   ],
   "source": [
    "os.listdir('./monkeys/training/training')"
   ]
  },
  {
   "cell_type": "code",
   "execution_count": 7,
   "id": "a4116a7f",
   "metadata": {},
   "outputs": [],
   "source": [
    "training_dataset_path = './monkeys/training/training'\n",
    "training_transforms = transforms.Compose([transforms.Resize((224, 224)), transforms.ToTensor()])\n",
    "train_dataset = torchvision.datasets.ImageFolder(root = training_dataset_path, transform = training_transforms)\n",
    "train_loader = torch.utils.data.DataLoader(dataset = train_dataset, batch_size = 32, shuffle=False)"
   ]
  },
  {
   "cell_type": "code",
   "execution_count": 14,
   "id": "a89ac701",
   "metadata": {},
   "outputs": [],
   "source": [
    "def get_mean_and_std(loader):\n",
    "    mean = 0.\n",
    "    std = 0.\n",
    "    total_images_count = 0\n",
    "    for images, _ in loader:\n",
    "        image_count_in_a_batch = images.size(0)\n",
    "        #print(images.shape)\n",
    "        images = images.view(image_count_in_a_batch, images.size(1), -1)\n",
    "        #print(images.shape)\n",
    "        mean += images.mean(2).sum(0)\n",
    "        std += images.std(2).sum(0)\n",
    "        total_images_count += image_count_in_a_batch\n",
    "    \n",
    "    mean /= total_images_count\n",
    "    std /= total_images_count\n",
    "    \n",
    "    return mean, std"
   ]
  },
  {
   "cell_type": "code",
   "execution_count": 17,
   "id": "5f2122e5",
   "metadata": {},
   "outputs": [
    {
     "data": {
      "text/plain": [
       "(tensor([0.4363, 0.4328, 0.3291]), tensor([0.2129, 0.2075, 0.2037]))"
      ]
     },
     "execution_count": 17,
     "metadata": {},
     "output_type": "execute_result"
    }
   ],
   "source": [
    "get_mean_and_std(train_loader)"
   ]
  },
  {
   "cell_type": "markdown",
   "id": "08fbd587",
   "metadata": {},
   "source": [
    "# Image dataset preparation in PyTorch (Dataloaders and Transforms)"
   ]
  },
  {
   "cell_type": "code",
   "execution_count": 18,
   "id": "2607daaf",
   "metadata": {},
   "outputs": [
    {
     "name": "stdout",
     "output_type": "stream",
     "text": [
      "hola que tal\n"
     ]
    }
   ],
   "source": [
    "print('hola que tal')"
   ]
  },
  {
   "cell_type": "code",
   "execution_count": null,
   "id": "66adf79d",
   "metadata": {},
   "outputs": [],
   "source": []
  }
 ],
 "metadata": {
  "kernelspec": {
   "display_name": "img_classificator_tutorial",
   "language": "python",
   "name": "img_classificator_tutorial"
  },
  "language_info": {
   "codemirror_mode": {
    "name": "ipython",
    "version": 3
   },
   "file_extension": ".py",
   "mimetype": "text/x-python",
   "name": "python",
   "nbconvert_exporter": "python",
   "pygments_lexer": "ipython3",
   "version": "3.11.3"
  }
 },
 "nbformat": 4,
 "nbformat_minor": 5
}
